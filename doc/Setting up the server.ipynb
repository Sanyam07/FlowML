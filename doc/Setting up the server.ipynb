{
 "metadata": {
  "name": "",
  "signature": "sha256:bf08c433997cac1b909adfcbcb342893ea8c35004625a6f028c342134f6910b0"
 },
 "nbformat": 3,
 "nbformat_minor": 0,
 "worksheets": [
  {
   "cells": [
    {
     "cell_type": "markdown",
     "metadata": {},
     "source": [
      "# Setting up the server\n",
      "Although FlowML can be used locally, in hospital environments it makes more sense to run FlowML on a dedicated machine which users can access on the local network.  This allows a more powerful machine to be used and simplifies the distribution of software.  Many hospital machines are locked down, so having users maintain up to date Python installations is infeasble.  In this document, we briefly describe how to setup a server, following the IPython's documentation: '[Running a notebook server](http://ipython.org/ipython-doc/stable/notebook/public_server.html)' and "
     ]
    },
    {
     "cell_type": "markdown",
     "metadata": {},
     "source": [
      "## Getting a certificate\n",
      "First, for testing purposes, self-sign an SSL certificate.\n",
      "\n",
      "``$ openssl req -x509 -nodes -days 365 -newkey rsa:1024 -keyout mycert.pem -out mycert.pem``\n",
      "\n",
      "To get a better SSL certificate, talk to your IT department to have one authorized for the URL of the server.  If you have direct control of the URL, follow Ars Technica's guide on [how to obtain an signed SSL certificiate](http://arstechnica.com/security/2009/12/how-to-get-set-with-a-secure-sertificate-for-free/).\n",
      "\n"
     ]
    },
    {
     "cell_type": "markdown",
     "metadata": {},
     "source": [
      "## Running the server\n",
      "\n",
      "To start the server, run the script\n",
      "\n",
      "`start_server.sh`\n",
      "\n",
      "If you do not already have a password stored in `password.sha1`, the start up script will prompt you to generate one following IPython Guidebook advice."
     ]
    },
    {
     "cell_type": "code",
     "collapsed": false,
     "input": [],
     "language": "python",
     "metadata": {},
     "outputs": []
    }
   ],
   "metadata": {}
  }
 ]
}
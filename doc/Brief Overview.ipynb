{
 "metadata": {
  "name": "",
  "signature": "sha256:c6fa7c49bc837590e7dafca2401aee41d986513d41aaa39f1e746e83133a2039"
 },
 "nbformat": 3,
 "nbformat_minor": 0,
 "worksheets": [
  {
   "cells": [
    {
     "cell_type": "code",
     "collapsed": false,
     "input": [
      "%load_ext autoreload\n",
      "%autoreload 2"
     ],
     "language": "python",
     "metadata": {},
     "outputs": [],
     "prompt_number": 12
    },
    {
     "cell_type": "markdown",
     "metadata": {},
     "source": [
      "# A Quick Introduction to FlowML\n",
      "<small> This a non-technial introduction to FlowML.  Our objective is to provide a simple library of commands for non-programmers.</small>\n",
      "\n",
      "\n",
      "The goal of FlowML is to provide a set of tools to perform flow cytometry analysis inside Python.  Although these tools are fully useable from Python, the primary objective is to provide access from inside an IPython Notebook to allow interactive viewing and plotting.  The use of IPython allows users to write scripts to analyze their data and simultaneously prepare documentation justifying each step.  Moreover, should they later desire to change any preceeding result, it is easy to re-run all subsequent code.  For example, if you discovered you placed a gate in the wrong place early in the gating hiearchy, it is easy to change that location."
     ]
    },
    {
     "cell_type": "markdown",
     "metadata": {},
     "source": [
      "## Opening a New Notebook\n",
      "Upon opening FlowML and entering the password, you will presented with the following display.\n",
      "![Opening](opening.png)\n",
      "To create a new notebook, navigate to the home directory and select your user.  Then click the new notebook button."
     ]
    },
    {
     "cell_type": "markdown",
     "metadata": {},
     "source": [
      "## Starting a New Notebook\n",
      "The new IPython notebook is an interface to the Python programming language.  This provides acces to a wide variety of tools, but we need to follow the conventions of the language.  To import the FlowML tools, we issue the following command:"
     ]
    },
    {
     "cell_type": "code",
     "collapsed": false,
     "input": [
      "import flowml as fml"
     ],
     "language": "python",
     "metadata": {},
     "outputs": [],
     "prompt_number": 16
    },
    {
     "cell_type": "markdown",
     "metadata": {},
     "source": [
      "All subsequent calls to the FlowML package will now begin with `fml`."
     ]
    },
    {
     "cell_type": "markdown",
     "metadata": {},
     "source": [
      "## Uploading Data\n",
      "NOT IMPLEMENTED YET"
     ]
    },
    {
     "cell_type": "markdown",
     "metadata": {},
     "source": [
      "## Finding Files\n",
      "The `!ls` command shows the files that are in the current directory.  In this example, we the IPython notebooks and fcs files present.  "
     ]
    },
    {
     "cell_type": "code",
     "collapsed": false,
     "input": [
      "!ls"
     ],
     "language": "python",
     "metadata": {},
     "outputs": [
      {
       "output_type": "stream",
       "stream": "stdout",
       "text": [
        "Brief Overview.ipynb\t      MPLD3 Tests.ipynb    Setting up the server.ipynb\topening.png\r\n",
        "Calibrating CyTOF Data.ipynb  Opening Files.ipynb  Untitled0.ipynb\t\ttest.fcs\r\n",
        "Getting Started.ipynb\t      SPADE.ipynb\t   Untitled1.ipynb\t\tvisne_all_a.fcs\r\n"
       ]
      }
     ],
     "prompt_number": 4
    },
    {
     "cell_type": "markdown",
     "metadata": {},
     "source": [
      "To only see the fcs files, we simply issue the command:"
     ]
    },
    {
     "cell_type": "code",
     "collapsed": false,
     "input": [
      "!ls *.fcs"
     ],
     "language": "python",
     "metadata": {},
     "outputs": [
      {
       "output_type": "stream",
       "stream": "stdout",
       "text": [
        "test.fcs  visne_all_a.fcs\r\n"
       ]
      }
     ],
     "prompt_number": 5
    },
    {
     "cell_type": "markdown",
     "metadata": {},
     "source": [
      "## Opening files\n",
      "To open a file, we use the following command to store the file 'test.fcs' in the variable `test`"
     ]
    },
    {
     "cell_type": "code",
     "collapsed": false,
     "input": [
      "test = fml.FlowData('test.fcs')"
     ],
     "language": "python",
     "metadata": {},
     "outputs": [],
     "prompt_number": 17
    },
    {
     "cell_type": "markdown",
     "metadata": {},
     "source": [
      "We can then ask properties of this file.  For example the property `names` stores the names of each of the columns in the fcs file."
     ]
    },
    {
     "cell_type": "code",
     "collapsed": false,
     "input": [
      "test.names"
     ],
     "language": "python",
     "metadata": {},
     "outputs": [
      {
       "metadata": {},
       "output_type": "pyout",
       "prompt_number": 8,
       "text": [
        "['Time',\n",
        " 'Event_length',\n",
        " 'Xe131',\n",
        " 'Cs133',\n",
        " 'CD71',\n",
        " 'Beads',\n",
        " 'Ly-6G_C',\n",
        " 'CD16_32',\n",
        " 'CD11b',\n",
        " 'IgM',\n",
        " 'Eu153',\n",
        " 'CD34',\n",
        " 'CD135',\n",
        " 'TER119',\n",
        " 'Sca-1',\n",
        " 'Ho165',\n",
        " 'CD117',\n",
        " 'CD8a',\n",
        " 'GFP',\n",
        " 'CD4',\n",
        " 'Lu175',\n",
        " 'B220',\n",
        " 'Ir191',\n",
        " 'Ir193',\n",
        " 'dead']"
       ]
      }
     ],
     "prompt_number": 8
    },
    {
     "cell_type": "markdown",
     "metadata": {},
     "source": [
      "## Plotting"
     ]
    },
    {
     "cell_type": "code",
     "collapsed": false,
     "input": [
      "fig = test.hist('CD71','CD4')"
     ],
     "language": "python",
     "metadata": {},
     "outputs": [
      {
       "metadata": {},
       "output_type": "display_data",
       "png": "[encoded data removed]",
       "text": [
        "<matplotlib.figure.Figure at 0x11e801790>"
       ]
      }
     ],
     "prompt_number": 20
    },
    {
     "cell_type": "markdown",
     "metadata": {},
     "source": [
      "## Plotting Multiple Files"
     ]
    },
    {
     "cell_type": "code",
     "collapsed": false,
     "input": [],
     "language": "python",
     "metadata": {},
     "outputs": []
    }
   ],
   "metadata": {}
  }
 ]
}